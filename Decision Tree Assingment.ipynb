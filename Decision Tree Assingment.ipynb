{
 "cells": [
  {
   "cell_type": "markdown",
   "metadata": {},
   "source": [
    "# Theoretical"
   ]
  },
  {
   "cell_type": "code",
   "execution_count": 1,
   "metadata": {},
   "outputs": [],
   "source": [
    "# 1.What is a Decision Tree, and how does it work ?\n",
    "\n",
    "#  Answer:- A Decision Tree is a machine learning method that makes decisions based on data. It has a tree-like structure with:\n",
    "\n",
    "# Root Node: Represents the entire dataset, starts the tree.\n",
    "\n",
    "# Decision Nodes: Points where the data splits based on attributes.\n",
    "\n",
    "# Leaf Nodes: Final decisions or outcomes.\n",
    "\n",
    "# Splitting: Process of dividing nodes into sub-nodes.\n",
    "\n",
    "# Pruning: Removing unnecessary nodes to avoid overfitting."
   ]
  },
  {
   "cell_type": "code",
   "execution_count": 2,
   "metadata": {},
   "outputs": [],
   "source": [
    "# 2. What are impurity measures in Decision Trees ?\n",
    "\n",
    "# Answer:- Impurity measures in decision trees help determine how mixed or \"impure\" the samples in a node are. \n",
    "# The goal is to find splits that result in the most homogeneous child nodes. Some common impurity measures include:\n",
    "\n",
    "# Gini Impurity: Measures the likelihood of incorrect classification.\n",
    "\n",
    "# Entropy (Information Gain): Measures disorder or uncertainty.\n",
    "\n",
    "# Variance Reduction: Used in regression trees to measure the reduction in variance.\n",
    "\n",
    "# Mean Squared Error (MSE): Measures the average of squared differences between actual and predicted values."
   ]
  },
  {
   "cell_type": "code",
   "execution_count": 3,
   "metadata": {},
   "outputs": [],
   "source": [
    "# 3. What is the mathematical formula for Gini Impurity?\n",
    "\n",
    "# Answer:-\n",
    "# The Gini Impurity is calculated using the formula:\n",
    "# Gini = 1 - Σ (p_i)^2\n",
    "# where p_i is the probability of an element being classified to a particular class."
   ]
  },
  {
   "cell_type": "code",
   "execution_count": 4,
   "metadata": {},
   "outputs": [],
   "source": [
    "# 4. What is the mathematical formula for Entropy?\n",
    "\n",
    "# Answer:-\n",
    "# The Entropy is calculated using the formula:\n",
    "# Entropy = - Σ (p_i * log2(p_i))\n",
    "# where p_i is the probability of an element being classified to a particular class."
   ]
  },
  {
   "cell_type": "code",
   "execution_count": 5,
   "metadata": {},
   "outputs": [],
   "source": [
    "# 5. What is Information Gain, and how is it used in Decision Trees?\n",
    "\n",
    "# Answer:-\n",
    "# Information Gain is a measure used in decision trees to determine which feature to split the data on at each step.\n",
    "# It quantifies the reduction in entropy (uncertainty) achieved by partitioning the data based on a given feature.\n",
    "# The feature with the highest Information Gain is chosen for the split.\n",
    "\n",
    "# The formula for Information Gain is:\n",
    "# Information Gain = Entropy(parent) - [Weighted Average] * Entropy(children)\n",
    "\n",
    "# In other words, it calculates the difference between the entropy of the parent node and the weighted sum of the entropies of the child nodes.\n",
    "# This helps in selecting the feature that provides the most significant reduction in uncertainty, leading to more homogeneous child nodes."
   ]
  },
  {
   "cell_type": "code",
   "execution_count": 6,
   "metadata": {},
   "outputs": [],
   "source": [
    "# 6. What is the difference between Gini Impurity and Entropy?\n",
    "\n",
    "# Answer:-\n",
    "# Both Gini Impurity and Entropy are measures of impurity used in decision trees to determine the best splits. \n",
    "# However, they have some differences:\n",
    "\n",
    "# Gini Impurity:\n",
    "# - Measures the likelihood of incorrect classification of a randomly chosen element.\n",
    "# - Formula: Gini = 1 - Σ (p_i)^2\n",
    "# - Computationally simpler and faster.\n",
    "# - Tends to create binary splits.\n",
    "\n",
    "# Entropy:\n",
    "# - Measures the amount of disorder or uncertainty in the data.\n",
    "# - Formula: Entropy = - Σ (p_i * log2(p_i))\n",
    "# - More computationally intensive.\n",
    "# - Can create multi-way splits.\n",
    "\n",
    "# In practice, both measures often lead to similar results, but Gini Impurity is preferred for its computational efficiency."
   ]
  },
  {
   "cell_type": "code",
   "execution_count": 7,
   "metadata": {},
   "outputs": [],
   "source": [
    "# 7. What is the mathematical explanation behind Decision Trees?\n",
    "\n",
    "# Answer:-\n",
    "# Decision Trees use a tree-like model of decisions and their possible consequences. The key mathematical concepts include:\n",
    "\n",
    "# 1. Splitting Criteria:\n",
    "#    - Decision trees split nodes based on certain criteria to maximize the homogeneity of the resulting sub-nodes.\n",
    "#    - Common criteria include Gini Impurity and Entropy (Information Gain).\n",
    "\n",
    "# 2. Gini Impurity:\n",
    "#    - Measures the impurity of a node.\n",
    "#    - Formula: Gini = 1 - Σ (p_i)^2\n",
    "#    - p_i is the probability of an element being classified to a particular class.\n",
    "\n",
    "# 3. Entropy:\n",
    "#    - Measures the disorder or uncertainty in the data.\n",
    "#    - Formula: Entropy = - Σ (p_i * log2(p_i))\n",
    "#    - p_i is the probability of an element being classified to a particular class.\n",
    "\n",
    "# 4. Information Gain:\n",
    "#    - Measures the reduction in entropy achieved by partitioning the data based on a given feature.\n",
    "#    - Formula: Information Gain = Entropy(parent) - [Weighted Average] * Entropy(children)\n",
    "\n",
    "# 5. Recursive Partitioning:\n",
    "#    - The process of splitting the dataset into subsets, which is repeated recursively.\n",
    "#    - The recursion is completed when the subsets at a node all have the same value of the target variable, or when splitting no longer adds value to the predictions.\n",
    "\n",
    "# 6. Pruning:\n",
    "#    - The process of removing sections of the tree that provide little power to classify instances.\n",
    "#    - Helps in reducing overfitting and improving the model's generalization.\n",
    "\n",
    "# 7. Cost Function:\n",
    "#    - Decision trees aim to minimize a cost function, which is often the impurity measure (Gini or Entropy) or a loss function (e.g., Mean Squared Error for regression trees).\n",
    "\n",
    "# These mathematical concepts form the foundation of how decision trees make decisions and classify data."
   ]
  },
  {
   "cell_type": "code",
   "execution_count": 8,
   "metadata": {},
   "outputs": [],
   "source": [
    "# 8. What is Pre-Pruning in Decision Trees?\n",
    "\n",
    "# Answer:-\n",
    "# Pre-pruning, also known as early stopping, is a technique used to prevent overfitting in decision trees by halting the tree growth early.\n",
    "# It involves setting conditions to stop the splitting of nodes before the tree becomes too complex.\n",
    "# Some common pre-pruning criteria include:\n",
    "\n",
    "# 1. Maximum Depth: Limiting the maximum depth of the tree.\n",
    "# 2. Minimum Samples per Leaf: Requiring a minimum number of samples in each leaf node.\n",
    "# 3. Minimum Samples per Split: Requiring a minimum number of samples to perform a split.\n",
    "# 4. Maximum Number of Nodes: Limiting the total number of nodes in the tree.\n",
    "# 5. Maximum Leaf Nodes: Limiting the number of leaf nodes.\n",
    "\n",
    "# By applying these criteria, pre-pruning helps in reducing the complexity of the tree, making it more generalizable and less prone to overfitting."
   ]
  },
  {
   "cell_type": "code",
   "execution_count": 9,
   "metadata": {},
   "outputs": [],
   "source": [
    "# 9. What is Post-Pruning in Decision Trees?\n",
    "\n",
    "# Answer:-\n",
    "# Post-pruning, also known as pruning, is a technique used to reduce the complexity of a decision tree after it has been fully grown.\n",
    "# The goal is to remove sections of the tree that provide little power to classify instances, thereby improving the model's generalization and reducing overfitting.\n",
    "# Post-pruning involves the following steps:\n",
    "\n",
    "# 1. Grow the full tree: Build the decision tree to its maximum depth, allowing it to overfit the training data.\n",
    "# 2. Evaluate subtrees: Assess the performance of subtrees and determine if removing certain branches improves the overall accuracy on a validation set.\n",
    "# 3. Prune branches: Remove branches that do not contribute significantly to the model's performance, based on criteria such as error rates or impurity measures.\n",
    "# 4. Simplify the tree: The result is a simpler, more generalizable tree that performs better on unseen data.\n",
    "\n",
    "# Common post-pruning techniques include:\n",
    "# - Cost Complexity Pruning (CCP): Balances the trade-off between tree complexity and accuracy by introducing a penalty for the number of leaves.\n",
    "# - Reduced Error Pruning: Removes branches only if it does not increase the error rate on a validation set.\n",
    "\n",
    "# Post-pruning helps in creating a more robust and interpretable decision tree model by eliminating unnecessary complexity."
   ]
  },
  {
   "cell_type": "code",
   "execution_count": 10,
   "metadata": {},
   "outputs": [],
   "source": [
    "# 10. What is the difference between Pre-Pruning and Post-Pruning?\n",
    "\n",
    "# Answer:-\n",
    "# Pre-Pruning and Post-Pruning are techniques used to prevent overfitting in decision trees, but they differ in their approach and timing:\n",
    "\n",
    "# Pre-Pruning (Early Stopping):\n",
    "# - Stops the growth of the tree early by setting conditions to halt splitting.\n",
    "# - Criteria include maximum depth, minimum samples per leaf, minimum samples per split, maximum number of nodes, and maximum leaf nodes.\n",
    "# - Prevents the tree from becoming too complex during the initial construction.\n",
    "# - Can be faster as it avoids growing a large tree, but may miss important splits.\n",
    "\n",
    "# Post-Pruning (Pruning):\n",
    "# - Allows the tree to grow to its full depth, potentially overfitting the training data.\n",
    "# - Evaluates and removes branches that do not contribute significantly to the model's performance.\n",
    "# - Techniques include Cost Complexity Pruning (CCP) and Reduced Error Pruning.\n",
    "# - Simplifies the tree after it has been fully grown, improving generalization.\n",
    "# - Can be more effective as it considers the entire tree structure, but may be computationally intensive.\n",
    "\n",
    "# In summary, Pre-Pruning stops the tree growth early based on predefined criteria, while Post-Pruning removes unnecessary branches after the tree is fully grown."
   ]
  },
  {
   "cell_type": "code",
   "execution_count": 11,
   "metadata": {},
   "outputs": [],
   "source": [
    "# 11. What is a Decision Tree Regressor?\n",
    "\n",
    "# Answer:-\n",
    "# A Decision Tree Regressor is a machine learning model used for regression tasks, where the goal is to predict a continuous target variable.\n",
    "# It works similarly to a Decision Tree Classifier but is designed to handle continuous output values.\n",
    "\n",
    "# Key concepts of a Decision Tree Regressor include:\n",
    "\n",
    "# 1. Splitting Criteria:\n",
    "#    - The tree splits nodes based on criteria that minimize the variance or mean squared error (MSE) of the target variable in the resulting sub-nodes.\n",
    "\n",
    "# 2. Variance Reduction:\n",
    "#    - Measures the reduction in variance achieved by partitioning the data based on a given feature.\n",
    "#    - The feature that results in the highest variance reduction is chosen for the split.\n",
    "\n",
    "# 3. Mean Squared Error (MSE):\n",
    "#    - Measures the average of the squared differences between the actual and predicted values.\n",
    "#    - The tree aims to minimize the MSE at each split.\n",
    "\n",
    "# 4. Recursive Partitioning:\n",
    "#    - The process of splitting the dataset into subsets, which is repeated recursively.\n",
    "#    - The recursion continues until a stopping criterion is met, such as a maximum depth or minimum number of samples per leaf.\n",
    "\n",
    "# 5. Leaf Nodes:\n",
    "#    - Represent the final predictions of the model.\n",
    "#    - Each leaf node contains the mean value of the target variable for the samples in that node.\n",
    "\n",
    "# 6. Pruning:\n",
    "#    - Techniques like pre-pruning and post-pruning can be applied to prevent overfitting and improve the model's generalization.\n",
    "\n",
    "# Decision Tree Regressors are interpretable and can capture non-linear relationships in the data, making them useful for various regression tasks."
   ]
  },
  {
   "cell_type": "code",
   "execution_count": 12,
   "metadata": {},
   "outputs": [],
   "source": [
    "# 12. What are the advantages and disadvantages of Decision Trees?\n",
    "\n",
    "# Answer:-\n",
    "# Advantages of Decision Trees:\n",
    "# 1. Interpretability: Decision trees are easy to understand and interpret. The tree structure allows for clear visualization of the decision-making process.\n",
    "# 2. Non-linearity: Decision trees can capture non-linear relationships between features and the target variable.\n",
    "# 3. Feature Importance: Decision trees provide insights into the importance of different features in making predictions.\n",
    "# 4. No Need for Feature Scaling: Decision trees do not require feature scaling (e.g., normalization or standardization).\n",
    "# 5. Handling Missing Values: Decision trees can handle missing values by assigning the most common value or using surrogate splits.\n",
    "# 6. Versatility: Decision trees can be used for both classification and regression tasks.\n",
    "\n",
    "# Disadvantages of Decision Trees:\n",
    "# 1. Overfitting: Decision trees are prone to overfitting, especially when the tree is deep and complex. Pruning techniques are needed to mitigate this issue.\n",
    "# 2. Instability: Small changes in the data can lead to significant changes in the tree structure, making decision trees unstable.\n",
    "# 3. Bias: Decision trees can be biased towards features with more levels or categories.\n",
    "# 4. Computational Complexity: Building a decision tree can be computationally expensive, especially for large datasets with many features.\n",
    "# 5. Limited Expressiveness: Decision trees may struggle to capture complex patterns in the data compared to other models like ensemble methods (e.g., Random Forests, Gradient Boosting).\n",
    "\n",
    "# In summary, decision trees are interpretable and versatile models but require careful tuning and pruning to avoid overfitting and instability."
   ]
  },
  {
   "cell_type": "code",
   "execution_count": 13,
   "metadata": {},
   "outputs": [],
   "source": [
    "# 13. How does a Decision Tree handle missing values?\n",
    "\n",
    "# Answer:-\n",
    "# Decision Trees can handle missing values in several ways:\n",
    "\n",
    "# 1. Surrogate Splits:\n",
    "#    - When a primary split feature has missing values, the tree can use surrogate splits.\n",
    "#    - Surrogate splits are alternative features that closely mimic the primary split.\n",
    "#    - The tree uses the surrogate feature to make the split decision for instances with missing values in the primary feature.\n",
    "\n",
    "# 2. Imputation:\n",
    "#    - Missing values can be imputed before training the decision tree.\n",
    "#    - Common imputation methods include filling missing values with the mean, median, or mode of the feature.\n",
    "\n",
    "# 3. Missing Value as a Separate Category:\n",
    "#    - For categorical features, missing values can be treated as a separate category.\n",
    "#    - This allows the tree to learn patterns specific to missing values.\n",
    "\n",
    "# 4. Weighted Splits:\n",
    "#    - Some decision tree algorithms use weighted splits to handle missing values.\n",
    "#    - The algorithm assigns weights to different branches based on the proportion of non-missing values.\n",
    "\n",
    "# These methods help decision trees to effectively handle missing values and make accurate predictions even when some data is missing."
   ]
  },
  {
   "cell_type": "code",
   "execution_count": 14,
   "metadata": {},
   "outputs": [],
   "source": [
    "# 14. How does a Decision Tree handle categorical features?\n",
    "\n",
    "# Answer:-\n",
    "# Decision Trees can handle categorical features in the following ways:\n",
    "\n",
    "# 1. One-Hot Encoding:\n",
    "#    - Categorical features are converted into binary vectors using one-hot encoding.\n",
    "#    - Each category is represented as a separate binary feature.\n",
    "#    - This allows the decision tree to treat each category as a distinct feature.\n",
    "\n",
    "# 2. Label Encoding:\n",
    "#    - Categorical features are converted into integer labels using label encoding.\n",
    "#    - Each category is assigned a unique integer value.\n",
    "#    - The decision tree can then use these integer values to make splits.\n",
    "\n",
    "# 3. Direct Handling:\n",
    "#    - Some decision tree algorithms can directly handle categorical features without encoding.\n",
    "#    - The tree can split on categorical features by evaluating each category separately.\n",
    "#    - This approach is often used in decision tree implementations like CART (Classification and Regression Trees).\n",
    "\n",
    "# 4. Binary Splits:\n",
    "#    - For categorical features with many levels, the tree can create binary splits.\n",
    "#    - The tree evaluates different combinations of categories to find the best split.\n",
    "#    - This helps in reducing the complexity of the tree.\n",
    "\n",
    "# These methods enable decision trees to effectively handle categorical features and make accurate predictions based on categorical data."
   ]
  },
  {
   "cell_type": "code",
   "execution_count": 15,
   "metadata": {},
   "outputs": [],
   "source": [
    "# 15. What are some real-world applications of Decision Trees?\n",
    "\n",
    "# Answer:-\n",
    "# Real-world applications of Decision Trees:\n",
    "\n",
    "# 1. Medical Diagnosis:\n",
    "#    - Decision trees are used to diagnose diseases based on patient symptoms and medical history.\n",
    "#    - They help in identifying the most likely conditions and recommending appropriate treatments.\n",
    "\n",
    "# 2. Customer Segmentation:\n",
    "#    - Businesses use decision trees to segment customers based on purchasing behavior, demographics, and preferences.\n",
    "#    - This helps in targeting marketing campaigns and improving customer satisfaction.\n",
    "\n",
    "# 3. Fraud Detection:\n",
    "#    - Decision trees are employed to detect fraudulent activities in financial transactions.\n",
    "#    - They analyze patterns and anomalies in transaction data to identify potential fraud.\n",
    "\n",
    "# 4. Credit Scoring:\n",
    "#    - Financial institutions use decision trees to assess the creditworthiness of loan applicants.\n",
    "#    - They evaluate factors such as income, credit history, and employment status to make lending decisions.\n",
    "\n",
    "# 5. Churn Prediction:\n",
    "#    - Companies use decision trees to predict customer churn and identify factors contributing to customer attrition.\n",
    "#    - This helps in implementing retention strategies to reduce churn rates.\n",
    "\n",
    "# 6. Manufacturing Quality Control:\n",
    "#    - Decision trees are used in manufacturing to monitor and control product quality.\n",
    "#    - They help in identifying defects and determining the root causes of quality issues.\n",
    "\n",
    "# 7. Environmental Monitoring:\n",
    "#    - Decision trees are applied in environmental science to predict air and water quality.\n",
    "#    - They analyze data from sensors and weather stations to forecast pollution levels.\n",
    "\n",
    "# 8. Human Resources:\n",
    "#    - HR departments use decision trees to evaluate job applicants and make hiring decisions.\n",
    "#    - They assess factors such as experience, skills, and qualifications to select the best candidates.\n",
    "\n",
    "# 9. Agriculture:\n",
    "#    - Decision trees are used in agriculture to predict crop yields and optimize farming practices.\n",
    "#    - They analyze factors such as soil quality, weather conditions, and pest infestations.\n",
    "\n",
    "# 10. Sentiment Analysis:\n",
    "#    - Decision trees are employed in natural language processing to analyze sentiment in text data.\n",
    "#    - They help in understanding customer opinions and feedback from social media and reviews.\n",
    "\n",
    "# These applications demonstrate the versatility and effectiveness of decision trees in various domains."
   ]
  },
  {
   "cell_type": "markdown",
   "metadata": {},
   "source": [
    "# Practical"
   ]
  },
  {
   "cell_type": "code",
   "execution_count": 16,
   "metadata": {},
   "outputs": [],
   "source": [
    "import pandas as pd\n",
    "import numpy as np\n",
    "import matplotlib.pyplot as plt\n",
    "import seaborn as sns\n",
    "\n",
    "import warnings\n",
    "warnings.filterwarnings(\"ignore\")"
   ]
  },
  {
   "cell_type": "code",
   "execution_count": 17,
   "metadata": {},
   "outputs": [
    {
     "name": "stdout",
     "output_type": "stream",
     "text": [
      "--------------------\n",
      "Accuracy Score :1.0\n",
      "--------------------\n",
      "-----------------------------------------------------------------\n",
      "Important Features :[0.01911002 0.         0.55727376 0.42361622]\n",
      "-----------------------------------------------------------------\n"
     ]
    }
   ],
   "source": [
    "# 16. Write a Python program to train a Decision Tree Classifier on the Iris dataset and print the model accuracy.\n",
    "\n",
    "from sklearn.datasets import load_iris\n",
    "from sklearn.model_selection import train_test_split\n",
    "from sklearn.tree import DecisionTreeClassifier\n",
    "from sklearn.metrics import accuracy_score\n",
    "\n",
    "data=load_iris()\n",
    "\n",
    "df=pd.DataFrame(data.data,columns=data.feature_names)\n",
    "df[\"target\"]=data.target\n",
    "\n",
    "X=df.iloc[:,:-1]\n",
    "y=df.iloc[:,-1]\n",
    "\n",
    "X_train, X_test, y_train, y_test = train_test_split(X, y, test_size=0.30, random_state=42)\n",
    "\n",
    "clf=DecisionTreeClassifier()\n",
    "clf.fit(X_train,y_train)\n",
    "y_pred=clf.predict(X_test)\n",
    "\n",
    "acc=accuracy_score(y_test,y_pred)\n",
    "print(\"-----\"*4)\n",
    "print(f\"Accuracy Score :{acc}\")\n",
    "print(\"-----\"*4)\n",
    "\n",
    "print(\"-----\"*13)\n",
    "print(f\"Important Features :{clf.feature_importances_}\")\n",
    "print(\"-----\"*13)\n"
   ]
  },
  {
   "cell_type": "code",
   "execution_count": 18,
   "metadata": {},
   "outputs": [
    {
     "name": "stdout",
     "output_type": "stream",
     "text": [
      "-----------------------------------------------------------------\n",
      "Important Features :[0.         0.02288528 0.         0.         0.         0.\n",
      " 0.         0.70583856 0.00858198 0.         0.         0.\n",
      " 0.         0.01356259 0.00200417 0.00715165 0.         0.01716396\n",
      " 0.         0.         0.03953682 0.10548036 0.         0.06730262\n",
      " 0.01049202 0.         0.         0.         0.         0.        ]\n",
      "-----------------------------------------------------------------\n"
     ]
    }
   ],
   "source": [
    "# 17. Write a Python program to train a Decision Tree Classifier using Gini Impurity as the criterion and print the feature importances.\n",
    "\n",
    "from sklearn.datasets import load_breast_cancer\n",
    "\n",
    "X,y=load_breast_cancer(return_X_y=True)\n",
    "X_train, X_test, y_train, y_test = train_test_split(X, y, test_size=0.30, random_state=42)\n",
    "\n",
    "clf=DecisionTreeClassifier(criterion=\"gini\")\n",
    "clf.fit(X_train,y_train)\n",
    "\n",
    "y_pred=clf.predict(X_test)\n",
    "\n",
    "\n",
    "print(\"-----\"*13)\n",
    "print(f\"Important Features :{clf.feature_importances_}\")\n",
    "print(\"-----\"*13)\n",
    "\n"
   ]
  },
  {
   "cell_type": "code",
   "execution_count": 19,
   "metadata": {},
   "outputs": [
    {
     "name": "stdout",
     "output_type": "stream",
     "text": [
      "--------------------\n",
      "Accuracy Score :0.96\n",
      "--------------------\n"
     ]
    }
   ],
   "source": [
    "# 18.  Write a Python program to train a Decision Tree Classifier using Entropy as the splitting criterion and print the model accuracy.\n",
    "\n",
    "# Answer:- \n",
    "\n",
    "from sklearn.datasets import load_diabetes\n",
    "\n",
    "X,y=load_breast_cancer(return_X_y=True)\n",
    "X_train, X_test, y_train, y_test = train_test_split(X, y, test_size=0.30, random_state=42)\n",
    "\n",
    "clf=DecisionTreeClassifier(criterion=\"entropy\")\n",
    "clf.fit(X_train,y_train)\n",
    "\n",
    "y_pred=clf.predict(X_test)\n",
    "\n",
    "acc=accuracy_score(y_test,y_pred)\n",
    "print(\"-----\"*4)\n",
    "print(f\"Accuracy Score :{acc :.2f}\")\n",
    "print(\"-----\"*4)\n"
   ]
  },
  {
   "cell_type": "code",
   "execution_count": 20,
   "metadata": {},
   "outputs": [
    {
     "name": "stdout",
     "output_type": "stream",
     "text": [
      "-------------------------\n",
      "Mean Squared Error :0.52\n",
      "-------------------------\n"
     ]
    }
   ],
   "source": [
    "# 19.  Write a Python program to train a Decision Tree Regressor on a housing dataset and evaluate using Mean Squared Error (MSE).\n",
    "\n",
    "from sklearn.datasets import fetch_california_housing\n",
    "from sklearn.metrics import mean_squared_error\n",
    "from sklearn.tree import DecisionTreeRegressor\n",
    "\n",
    "X,y=fetch_california_housing(return_X_y=True)\n",
    "X_train, X_test, y_train, y_test = train_test_split(X, y, test_size=0.30, random_state=42)\n",
    "\n",
    "regression=DecisionTreeRegressor()\n",
    "regression.fit(X_train,y_train)\n",
    "\n",
    "y_pred=regression.predict(X_test)\n",
    "\n",
    "mse=mean_squared_error(y_test,y_pred)\n",
    "print(\"-----\"*5)\n",
    "print(f\"Mean Squared Error :{mse :.2f}\")\n",
    "print(\"-----\"*5)"
   ]
  },
  {
   "cell_type": "code",
   "execution_count": 21,
   "metadata": {},
   "outputs": [
    {
     "ename": "InvocationException",
     "evalue": "GraphViz's executables not found",
     "output_type": "error",
     "traceback": [
      "\u001b[1;31m---------------------------------------------------------------------------\u001b[0m",
      "\u001b[1;31mInvocationException\u001b[0m                       Traceback (most recent call last)",
      "Cell \u001b[1;32mIn[21], line 24\u001b[0m\n\u001b[0;32m     17\u001b[0m dot_data\u001b[38;5;241m=\u001b[39mexport_graphviz(clf,out_file\u001b[38;5;241m=\u001b[39m\u001b[38;5;28;01mNone\u001b[39;00m,\n\u001b[0;32m     18\u001b[0m                          feature_names\u001b[38;5;241m=\u001b[39mload_breast_cancer()\u001b[38;5;241m.\u001b[39mfeature_names,\n\u001b[0;32m     19\u001b[0m                          class_names\u001b[38;5;241m=\u001b[39mload_breast_cancer()\u001b[38;5;241m.\u001b[39mtarget_names,\n\u001b[0;32m     20\u001b[0m                          filled\u001b[38;5;241m=\u001b[39m\u001b[38;5;28;01mTrue\u001b[39;00m,rounded\u001b[38;5;241m=\u001b[39m\u001b[38;5;28;01mTrue\u001b[39;00m,special_characters\u001b[38;5;241m=\u001b[39m\u001b[38;5;28;01mTrue\u001b[39;00m)\n\u001b[0;32m     22\u001b[0m graph\u001b[38;5;241m=\u001b[39mpydotplus\u001b[38;5;241m.\u001b[39mgraph_from_dot_data(dot_data)\n\u001b[1;32m---> 24\u001b[0m Image(\u001b[43mgraph\u001b[49m\u001b[38;5;241;43m.\u001b[39;49m\u001b[43mcreate_png\u001b[49m\u001b[43m(\u001b[49m\u001b[43m)\u001b[49m)\n",
      "File \u001b[1;32m~\\AppData\\Local\\Programs\\Python\\Python312\\Lib\\site-packages\\pydotplus\\graphviz.py:1797\u001b[0m, in \u001b[0;36mDot.__init__.<locals>.<lambda>\u001b[1;34m(f, prog)\u001b[0m\n\u001b[0;32m   1792\u001b[0m \u001b[38;5;66;03m# Automatically creates all the methods enabling the creation\u001b[39;00m\n\u001b[0;32m   1793\u001b[0m \u001b[38;5;66;03m# of output in any of the supported formats.\u001b[39;00m\n\u001b[0;32m   1794\u001b[0m \u001b[38;5;28;01mfor\u001b[39;00m frmt \u001b[38;5;129;01min\u001b[39;00m \u001b[38;5;28mself\u001b[39m\u001b[38;5;241m.\u001b[39mformats:\n\u001b[0;32m   1795\u001b[0m     \u001b[38;5;28mself\u001b[39m\u001b[38;5;241m.\u001b[39m\u001b[38;5;21m__setattr__\u001b[39m(\n\u001b[0;32m   1796\u001b[0m         \u001b[38;5;124m'\u001b[39m\u001b[38;5;124mcreate_\u001b[39m\u001b[38;5;124m'\u001b[39m \u001b[38;5;241m+\u001b[39m frmt,\n\u001b[1;32m-> 1797\u001b[0m         \u001b[38;5;28;01mlambda\u001b[39;00m f\u001b[38;5;241m=\u001b[39mfrmt, prog\u001b[38;5;241m=\u001b[39m\u001b[38;5;28mself\u001b[39m\u001b[38;5;241m.\u001b[39mprog: \u001b[38;5;28;43mself\u001b[39;49m\u001b[38;5;241;43m.\u001b[39;49m\u001b[43mcreate\u001b[49m\u001b[43m(\u001b[49m\u001b[38;5;28;43mformat\u001b[39;49m\u001b[38;5;241;43m=\u001b[39;49m\u001b[43mf\u001b[49m\u001b[43m,\u001b[49m\u001b[43m \u001b[49m\u001b[43mprog\u001b[49m\u001b[38;5;241;43m=\u001b[39;49m\u001b[43mprog\u001b[49m\u001b[43m)\u001b[49m\n\u001b[0;32m   1798\u001b[0m     )\n\u001b[0;32m   1799\u001b[0m     f \u001b[38;5;241m=\u001b[39m \u001b[38;5;28mself\u001b[39m\u001b[38;5;241m.\u001b[39m\u001b[38;5;18m__dict__\u001b[39m[\u001b[38;5;124m'\u001b[39m\u001b[38;5;124mcreate_\u001b[39m\u001b[38;5;124m'\u001b[39m \u001b[38;5;241m+\u001b[39m frmt]\n\u001b[0;32m   1800\u001b[0m     f\u001b[38;5;241m.\u001b[39m\u001b[38;5;18m__doc__\u001b[39m \u001b[38;5;241m=\u001b[39m (\n\u001b[0;32m   1801\u001b[0m \u001b[38;5;250m        \u001b[39m\u001b[38;5;124;03m'''Refer to the docstring accompanying the'''\u001b[39;00m\n\u001b[0;32m   1802\u001b[0m \u001b[38;5;250m        \u001b[39m\u001b[38;5;124;03m''''create' method for more information.'''\u001b[39;00m\n\u001b[0;32m   1803\u001b[0m     )\n",
      "File \u001b[1;32m~\\AppData\\Local\\Programs\\Python\\Python312\\Lib\\site-packages\\pydotplus\\graphviz.py:1959\u001b[0m, in \u001b[0;36mDot.create\u001b[1;34m(self, prog, format)\u001b[0m\n\u001b[0;32m   1957\u001b[0m     \u001b[38;5;28mself\u001b[39m\u001b[38;5;241m.\u001b[39mprogs \u001b[38;5;241m=\u001b[39m find_graphviz()\n\u001b[0;32m   1958\u001b[0m     \u001b[38;5;28;01mif\u001b[39;00m \u001b[38;5;28mself\u001b[39m\u001b[38;5;241m.\u001b[39mprogs \u001b[38;5;129;01mis\u001b[39;00m \u001b[38;5;28;01mNone\u001b[39;00m:\n\u001b[1;32m-> 1959\u001b[0m         \u001b[38;5;28;01mraise\u001b[39;00m InvocationException(\n\u001b[0;32m   1960\u001b[0m             \u001b[38;5;124m'\u001b[39m\u001b[38;5;124mGraphViz\u001b[39m\u001b[38;5;130;01m\\'\u001b[39;00m\u001b[38;5;124ms executables not found\u001b[39m\u001b[38;5;124m'\u001b[39m)\n\u001b[0;32m   1962\u001b[0m \u001b[38;5;28;01mif\u001b[39;00m prog \u001b[38;5;129;01mnot\u001b[39;00m \u001b[38;5;129;01min\u001b[39;00m \u001b[38;5;28mself\u001b[39m\u001b[38;5;241m.\u001b[39mprogs:\n\u001b[0;32m   1963\u001b[0m     \u001b[38;5;28;01mraise\u001b[39;00m InvocationException(\n\u001b[0;32m   1964\u001b[0m         \u001b[38;5;124m'\u001b[39m\u001b[38;5;124mGraphViz\u001b[39m\u001b[38;5;130;01m\\'\u001b[39;00m\u001b[38;5;124ms executable \u001b[39m\u001b[38;5;124m\"\u001b[39m\u001b[38;5;132;01m%s\u001b[39;00m\u001b[38;5;124m\"\u001b[39m\u001b[38;5;124m not found\u001b[39m\u001b[38;5;124m'\u001b[39m \u001b[38;5;241m%\u001b[39m prog)\n",
      "\u001b[1;31mInvocationException\u001b[0m: GraphViz's executables not found"
     ]
    }
   ],
   "source": [
    "# 20. Write a Python program to train a Decision Tree Classifier and visualize the tree using graphviz.\n",
    "\n",
    "from sklearn.datasets import load_breast_cancer\n",
    "from sklearn.tree import export_graphviz,DecisionTreeClassifier\n",
    "import graphviz\n",
    "import pydotplus\n",
    "from IPython.display import Image\n",
    "\n",
    "X,y=load_breast_cancer(return_X_y=True)\n",
    "X_train, X_test, y_train, y_test = train_test_split(X, y, test_size=0.30, random_state=42)\n",
    "\n",
    "clf=DecisionTreeClassifier(criterion=\"entropy\")\n",
    "clf.fit(X_train,y_train)\n",
    "\n",
    "y_pred=clf.predict(X_test)\n",
    "\n",
    "dot_data=export_graphviz(clf,out_file=None,\n",
    "                         feature_names=load_breast_cancer().feature_names,\n",
    "                         class_names=load_breast_cancer().target_names,\n",
    "                         filled=True,rounded=True,special_characters=True)\n",
    "\n",
    "graph=pydotplus.graph_from_dot_data(dot_data)\n",
    "\n",
    "Image(graph.create_png())"
   ]
  },
  {
   "cell_type": "code",
   "execution_count": 22,
   "metadata": {},
   "outputs": [
    {
     "name": "stdout",
     "output_type": "stream",
     "text": [
      "------------------------------------------\n",
      "Accuracy Score of Maximum Depth - 3 :1.00\n",
      "------------------------------------------\n",
      "------------------------------------------\n",
      "Accuracy Score of Fully grown tree :1.00\n",
      "------------------------------------------\n"
     ]
    }
   ],
   "source": [
    "# 21. Write a Python program to train a Decision Tree Classifier with a maximum depth of 3 and compare its accuracy with a fully grown tree.\n",
    "\n",
    "from sklearn.datasets import load_iris\n",
    "from sklearn.tree import DecisionTreeClassifier\n",
    "from sklearn.metrics import accuracy_score\n",
    "\n",
    "X,y=load_iris(return_X_y=True)\n",
    "X_train, X_test, y_train, y_test = train_test_split(X, y, test_size=0.30, random_state=42)\n",
    "\n",
    "clf_max_depth_3=DecisionTreeClassifier(max_depth=3,random_state=42)\n",
    "clf_max_depth_3.fit(X_train,y_train)\n",
    "\n",
    "y_pred=clf_max_depth_3.predict(X_test)\n",
    "\n",
    "acc=accuracy_score(y_test,y_pred)\n",
    "print(\"------\"*7)\n",
    "print(f\"Accuracy Score of Maximum Depth - 3 :{acc :.2f}\")\n",
    "print(\"------\"*7)\n",
    "\n",
    "clf=DecisionTreeClassifier(random_state=42)\n",
    "clf.fit(X_train,y_train)\n",
    "\n",
    "y_pred=clf.predict(X_test)\n",
    "\n",
    "acc=accuracy_score(y_test,y_pred)\n",
    "print(\"------\"*7)\n",
    "print(f\"Accuracy Score of Fully grown tree :{acc :.2f}\")\n",
    "print(\"------\"*7)\n",
    "\n",
    "    "
   ]
  },
  {
   "cell_type": "code",
   "execution_count": 23,
   "metadata": {},
   "outputs": [
    {
     "name": "stdout",
     "output_type": "stream",
     "text": [
      "------------------------------------------\n",
      "Accuracy Score of  minimum sample split 5 :0.02\n",
      "------------------------------------------\n",
      "------------------------------------------\n",
      "Accuracy Score of Default:0.02\n",
      "------------------------------------------\n"
     ]
    }
   ],
   "source": [
    "# 22. Write a Python program to train a Decision Tree Classifier using min_samples_split=5 and compare its accuracy with a default tree.\n",
    "\n",
    "from sklearn.datasets import load_diabetes\n",
    "from sklearn.tree import DecisionTreeClassifier\n",
    "from sklearn.metrics import accuracy_score\n",
    "\n",
    "X,y=load_diabetes(return_X_y=True)\n",
    "X_train, X_test, y_train, y_test = train_test_split(X, y, test_size=0.30, random_state=42)\n",
    "\n",
    "clf_min_sample_5=DecisionTreeClassifier(min_samples_split=5,random_state=42)\n",
    "clf_min_sample_5.fit(X_train,y_train)\n",
    "\n",
    "y_pred=clf_min_sample_5.predict(X_test)\n",
    "\n",
    "acc=accuracy_score(y_test,y_pred)\n",
    "print(\"------\"*7)\n",
    "print(f\"Accuracy Score of  minimum sample split 5 :{acc :.2f}\")\n",
    "print(\"------\"*7)\n",
    "\n",
    "clf=DecisionTreeClassifier(random_state=42)\n",
    "clf.fit(X_train,y_train)\n",
    "\n",
    "y_pred=clf.predict(X_test)\n",
    "\n",
    "acc=accuracy_score(y_test,y_pred)\n",
    "print(\"------\"*7)\n",
    "print(f\"Accuracy Score of Default:{acc :.2f}\")\n",
    "print(\"------\"*7)\n"
   ]
  },
  {
   "cell_type": "code",
   "execution_count": 24,
   "metadata": {},
   "outputs": [
    {
     "name": "stdout",
     "output_type": "stream",
     "text": [
      "------------------------------------------\n",
      "Accuracy Score without Feature Scaling: 0.79\n",
      "------------------------------------------\n",
      "Accuracy Score with Feature Scaling: 0.82\n",
      "------------------------------------------\n"
     ]
    }
   ],
   "source": [
    "# 23. Write a Python program to apply feature scaling before training a Decision Tree Classifier and compare its accuracy with unscaled data.\n",
    "\n",
    "from sklearn.preprocessing import StandardScaler\n",
    "from sklearn.metrics import accuracy_score\n",
    "from sklearn.model_selection import train_test_split\n",
    "from sklearn.tree import DecisionTreeClassifier\n",
    "from sklearn.datasets import make_classification\n",
    "\n",
    "X,y=make_classification(n_samples=1000,n_features=20,n_informative=15,n_redundant=5,random_state=1)\n",
    "\n",
    "X_train, X_test, y_train, y_test = train_test_split(X, y, test_size=0.30, random_state=42)\n",
    "\n",
    "clf=DecisionTreeClassifier()\n",
    "clf.fit(X_train,y_train)\n",
    "y_pred=clf.predict(X_test)\n",
    "\n",
    "acc=accuracy_score(y_test,y_pred)\n",
    "\n",
    "# Scaling\n",
    "scaler=StandardScaler()\n",
    "X_train_scaled=scaler.fit_transform(X_train)\n",
    "X_test_scaled=scaler.transform(X_test)\n",
    "\n",
    "clf_scaled=DecisionTreeClassifier()\n",
    "clf_scaled.fit(X_train_scaled,y_train)\n",
    "scaled_y_pred=clf_scaled.predict(X_test_scaled)\n",
    "\n",
    "acc_scaled=accuracy_score(y_test,scaled_y_pred)\n",
    "\n",
    "print(\"------\" * 7)\n",
    "print(f\"Accuracy Score without Feature Scaling: {acc:.2f}\")\n",
    "print(\"------\" * 7)\n",
    "print(f\"Accuracy Score with Feature Scaling: {acc_scaled:.2f}\")\n",
    "print(\"------\" * 7)"
   ]
  },
  {
   "cell_type": "code",
   "execution_count": 25,
   "metadata": {},
   "outputs": [
    {
     "name": "stdout",
     "output_type": "stream",
     "text": [
      "------------------------------------------------\n",
      "Accuracy Score with One-vs-Rest strategy :0.91\n",
      "------------------------------------------------\n"
     ]
    }
   ],
   "source": [
    "# 24. Write a Python program to train a Decision Tree Classifier using One-vs-Rest (OvR) strategy for multiclass classification.\n",
    "\n",
    "from sklearn.multiclass import OneVsRestClassifier\n",
    "from sklearn.datasets import load_wine\n",
    "\n",
    "data=load_wine()\n",
    "df=pd.DataFrame(data.data,columns=data.feature_names)\n",
    "df[\"target\"]=data.target\n",
    "\n",
    "X=df.iloc[:,:-1]\n",
    "y=df.iloc[:,-1]\n",
    "\n",
    "X_train, X_test, y_train, y_test = train_test_split(X, y, test_size=0.30, random_state=42)\n",
    "\n",
    "clf_ovr=OneVsRestClassifier(DecisionTreeClassifier())\n",
    "clf_ovr.fit(X_train,y_train)\n",
    "y_pred=clf_ovr.predict(X_test)\n",
    "\n",
    "acc=accuracy_score(y_test,y_pred)\n",
    "print(\"--------\"*6)\n",
    "print(f\"Accuracy Score with One-vs-Rest strategy :{acc:.2f}\")\n",
    "print(\"--------\"*6)"
   ]
  },
  {
   "cell_type": "code",
   "execution_count": 26,
   "metadata": {},
   "outputs": [
    {
     "name": "stdout",
     "output_type": "stream",
     "text": [
      "-----------------------------------------------------------------\n",
      "Important Features :\n",
      "[0.         0.         0.         0.         0.         0.\n",
      " 0.         0.70583856 0.         0.         0.01356259 0.\n",
      " 0.         0.         0.00915582 0.         0.         0.01716396\n",
      " 0.         0.         0.03953682 0.13694761 0.03064992 0.0366527\n",
      " 0.01049202 0.         0.         0.         0.         0.        ]\n",
      "-----------------------------------------------------------------\n"
     ]
    }
   ],
   "source": [
    "# 25. Write a Python program to train a Decision Tree Classifier and display the feature importance scores.\n",
    "\n",
    "from sklearn.datasets import load_breast_cancer\n",
    "\n",
    "X,y=load_breast_cancer(return_X_y=True)\n",
    "X_train, X_test, y_train, y_test = train_test_split(X, y, test_size=0.30, random_state=42)\n",
    "\n",
    "clf=DecisionTreeClassifier()\n",
    "clf.fit(X_train,y_train)\n",
    "\n",
    "y_pred=clf.predict(X_test)\n",
    "\n",
    "\n",
    "print(\"-----\"*13)\n",
    "print(f\"Important Features :\\n{clf.feature_importances_}\")\n",
    "print(\"-----\"*13)"
   ]
  },
  {
   "cell_type": "code",
   "execution_count": 27,
   "metadata": {},
   "outputs": [
    {
     "name": "stdout",
     "output_type": "stream",
     "text": [
      "------------------------------------------\n",
      "Mean Squared Error of max depth 5: 3818.07\n",
      "------------------------------------------\n",
      "------------------------------------------\n",
      "Mean Squared Error of unrestricted: 5697.79\n",
      "------------------------------------------\n"
     ]
    }
   ],
   "source": [
    "# 26. Write a Python program to train a Decision Tree Regressor with max_depth=5 and compare its performance with an unrestricted tree.\n",
    "\n",
    "from sklearn.tree import DecisionTreeRegressor\n",
    "from sklearn.metrics import mean_squared_error\n",
    "\n",
    "X, y = load_diabetes(return_X_y=True)\n",
    "X_train, X_test, y_train, y_test = train_test_split(X, y, test_size=0.30, random_state=42)\n",
    "\n",
    "clf_max_depth_5 = DecisionTreeRegressor(random_state=42, max_depth=5)\n",
    "clf_max_depth_5.fit(X_train, y_train)\n",
    "\n",
    "y_pred = clf_max_depth_5.predict(X_test)\n",
    "\n",
    "mse = mean_squared_error(y_test, y_pred)\n",
    "print(\"------\" * 7)\n",
    "print(f\"Mean Squared Error of max depth 5: {mse:.2f}\")\n",
    "print(\"------\" * 7)\n",
    "\n",
    "clf = DecisionTreeRegressor(random_state=42)\n",
    "clf.fit(X_train, y_train)\n",
    "\n",
    "y_pred = clf.predict(X_test)\n",
    "\n",
    "mse = mean_squared_error(y_test, y_pred)\n",
    "print(\"------\" * 7)\n",
    "print(f\"Mean Squared Error of unrestricted: {mse:.2f}\")\n",
    "print(\"------\" * 7)"
   ]
  },
  {
   "cell_type": "code",
   "execution_count": 28,
   "metadata": {},
   "outputs": [
    {
     "data": {
      "image/png": "[encoded data removed]",
      "text/plain": [
       "<Figure size 1000x800 with 1 Axes>"
      ]
     },
     "metadata": {},
     "output_type": "display_data"
    }
   ],
   "source": [
    "# 27. Write a Python program to train a Decision Tree Classifier, apply Cost Complexity Pruning (CCP), and visualize its effect on accuracy.\n",
    "\n",
    "from sklearn.datasets import load_wine\n",
    "\n",
    "X,y=load_wine(return_X_y=True)\n",
    "X_train, X_test, y_train, y_test = train_test_split(X, y, test_size=0.30, random_state=42)\n",
    "\n",
    "clf=DecisionTreeClassifier()\n",
    "clf.fit(X_train,y_train)\n",
    "\n",
    "y_pred=clf.predict(X_test)\n",
    "\n",
    "path=clf.cost_complexity_pruning_path(X_train,y_train)\n",
    "ccp_alphas,impurities=path.ccp_alphas,path.impurities\n",
    "\n",
    "clfs=[]\n",
    "for clf_alpha in ccp_alphas:\n",
    "    clf=DecisionTreeClassifier(ccp_alpha=clf_alpha,random_state=1)\n",
    "    clf.fit(X_train,y_train)\n",
    "    clfs.append(clf)\n",
    "    \n",
    "clfs=clfs[:-1]\n",
    "ccp_alphas=ccp_alphas[:-1]\n",
    "\n",
    "train_scores=[accuracy_score(y_train,clf.predict(X_train))for clf in clfs]\n",
    "test_scores=[accuracy_score(y_test,clf.predict(X_test))for clf in clfs]\n",
    "\n",
    "plt.figure(figsize=(10,8))\n",
    "plt.plot(ccp_alphas,train_scores,marker=\"o\",label=\"train\",drawstyle=\"steps-post\")\n",
    "plt.plot(ccp_alphas,test_scores,marker=\"o\",label=\"test\",drawstyle=\"steps-post\")\n",
    "plt.xlabel('alpha')\n",
    "plt.ylabel('accuracy')\n",
    "plt.title('Accuracy vs alpha for training and testing sets')\n",
    "plt.legend()\n",
    "plt.show()"
   ]
  },
  {
   "cell_type": "code",
   "execution_count": 29,
   "metadata": {},
   "outputs": [
    {
     "name": "stdout",
     "output_type": "stream",
     "text": [
      "------------------\n",
      "Precision: 0.97\n",
      "------------------\n",
      "Recall: 0.93\n",
      "------------------\n",
      "F1 score: 0.95\n",
      "------------------\n"
     ]
    }
   ],
   "source": [
    "# 28. Write a Python program to train a Decision Tree Classifier and evaluate its performance using Precision, Recall, and F1-Score.\n",
    "\n",
    "from sklearn.datasets import load_breast_cancer\n",
    "from sklearn.metrics import precision_score,recall_score,f1_score\n",
    "\n",
    "X,y=load_breast_cancer(return_X_y=True)\n",
    "X_train, X_test, y_train, y_test = train_test_split(X, y, test_size=0.30, random_state=42)\n",
    "\n",
    "clf=DecisionTreeClassifier(criterion=\"gini\")\n",
    "clf.fit(X_train,y_train)\n",
    "\n",
    "y_pred=clf.predict(X_test)\n",
    "\n",
    "Precision = precision_score(y_test, y_pred)\n",
    "Recall=recall_score(y_test,y_pred)\n",
    "F1_score=f1_score(y_test,y_pred)\n",
    "print(\"------\" * 3)\n",
    "print(f\"Precision: {Precision:.2f}\")\n",
    "print(\"------\" * 3)\n",
    "\n",
    "print(f\"Recall: {Recall:.2f}\")\n",
    "print(\"------\" * 3)\n",
    "print(f\"F1 score: {F1_score:.2f}\")\n",
    "print(\"------\" * 3)"
   ]
  },
  {
   "cell_type": "code",
   "execution_count": 30,
   "metadata": {},
   "outputs": [
    {
     "data": {
      "image/png": "[encoded data removed]",
      "text/plain": [
       "<Figure size 1000x800 with 1 Axes>"
      ]
     },
     "metadata": {},
     "output_type": "display_data"
    }
   ],
   "source": [
    "# 29. Write a Python program to train a Decision Tree Classifier and visualize the confusion matrix using seaborn.\n",
    "\n",
    "from sklearn.datasets import load_breast_cancer\n",
    "from sklearn.metrics import confusion_matrix\n",
    "X,y=load_breast_cancer(return_X_y=True)\n",
    "X_train, X_test, y_train, y_test = train_test_split(X, y, test_size=0.30, random_state=42)\n",
    "\n",
    "clf=DecisionTreeClassifier(criterion=\"gini\")\n",
    "clf.fit(X_train,y_train)\n",
    "\n",
    "y_pred=clf.predict(X_test)\n",
    "\n",
    "cm=confusion_matrix(y_test,y_pred)\n",
    "\n",
    "plt.figure(figsize=(10,8))\n",
    "sns.heatmap(cm,annot=True,fmt=\"d\",cmap=\"Blues\",cbar=False,\n",
    "            xticklabels=clf.classes_,yticklabels=clf.classes_)\n",
    "plt.xlabel('Predicted')\n",
    "plt.ylabel('Actual')\n",
    "plt.title('Confusion Matrix')\n",
    "plt.show()"
   ]
  },
  {
   "cell_type": "code",
   "execution_count": 31,
   "metadata": {},
   "outputs": [
    {
     "name": "stdout",
     "output_type": "stream",
     "text": [
      "Fitting 5 folds for each of 12 candidates, totalling 60 fits\n",
      "Best Parameters: {'max_depth': None, 'min_samples_split': 5}\n",
      "Best F1 Score: 0.94\n"
     ]
    }
   ],
   "source": [
    "# 30. Write a Python program to train a Decision Tree Classifier and use GridSearchCV to find the optimal values for max_depth and min_samples_split.\n",
    "\n",
    "from sklearn.datasets import load_breast_cancer\n",
    "from sklearn.model_selection import GridSearchCV\n",
    "\n",
    "X,y=load_breast_cancer(return_X_y=True)\n",
    "X_train, X_test, y_train, y_test = train_test_split(X, y, test_size=0.30, random_state=42)\n",
    "\n",
    "params = {\n",
    "    'max_depth': [None, 10, 20, 30],\n",
    "    'min_samples_split': [2, 5, 10]\n",
    "    }\n",
    "clf=DecisionTreeClassifier()\n",
    "\n",
    "grid=GridSearchCV(estimator=clf,param_grid=params,cv=5,verbose=3,n_jobs=-1,scoring=\"f1\")\n",
    "grid.fit(X_train,y_train)\n",
    "\n",
    "print(f\"Best Parameters: {grid.best_params_}\")\n",
    "print(f\"Best F1 Score: {grid.best_score_:.2f}\")"
   ]
  },
  {
   "cell_type": "code",
   "execution_count": null,
   "metadata": {},
   "outputs": [],
   "source": []
  }
 ],
 "metadata": {
  "kernelspec": {
   "display_name": "Python 3 (ipykernel)",
   "language": "python",
   "name": "python3"
  },
  "language_info": {
   "codemirror_mode": {
    "name": "ipython",
    "version": 3
   },
   "file_extension": ".py",
   "mimetype": "text/x-python",
   "name": "python",
   "nbconvert_exporter": "python",
   "pygments_lexer": "ipython3",
   "version": "3.12.1"
  }
 },
 "nbformat": 4,
 "nbformat_minor": 4
}
